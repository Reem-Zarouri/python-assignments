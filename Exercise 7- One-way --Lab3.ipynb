{
 "cells": [
  {
   "cell_type": "code",
   "execution_count": 72,
   "id": "49ff17f0",
   "metadata": {},
   "outputs": [],
   "source": [
    "# H0: The number of website visits are equal between the three websites.\n",
    "# Ha: the number of website visits are not equal between the three websites."
   ]
  },
  {
   "cell_type": "code",
   "execution_count": 73,
   "id": "03fb8d40",
   "metadata": {},
   "outputs": [],
   "source": [
    "import pandas as pd"
   ]
  },
  {
   "cell_type": "code",
   "execution_count": 74,
   "id": "f7e51e27",
   "metadata": {},
   "outputs": [
    {
     "data": {
      "text/html": [
       "<div>\n",
       "<style scoped>\n",
       "    .dataframe tbody tr th:only-of-type {\n",
       "        vertical-align: middle;\n",
       "    }\n",
       "\n",
       "    .dataframe tbody tr th {\n",
       "        vertical-align: top;\n",
       "    }\n",
       "\n",
       "    .dataframe thead th {\n",
       "        text-align: right;\n",
       "    }\n",
       "</style>\n",
       "<table border=\"1\" class=\"dataframe\">\n",
       "  <thead>\n",
       "    <tr style=\"text-align: right;\">\n",
       "      <th></th>\n",
       "      <th></th>\n",
       "      <th></th>\n",
       "      <th>websiteSWE;websiteFIN;websiteNOR</th>\n",
       "    </tr>\n",
       "  </thead>\n",
       "  <tbody>\n",
       "    <tr>\n",
       "      <th>18</th>\n",
       "      <th>2;17</th>\n",
       "      <th>4;15</th>\n",
       "      <td>2.0</td>\n",
       "    </tr>\n",
       "    <tr>\n",
       "      <th>20</th>\n",
       "      <th>1;18</th>\n",
       "      <th>7;18</th>\n",
       "      <td>8.0</td>\n",
       "    </tr>\n",
       "    <tr>\n",
       "      <th>17</th>\n",
       "      <th>6;19</th>\n",
       "      <th>1;17</th>\n",
       "      <td>7.0</td>\n",
       "    </tr>\n",
       "    <tr>\n",
       "      <th>16</th>\n",
       "      <th>8;16</th>\n",
       "      <th>4;16</th>\n",
       "      <td>5.0</td>\n",
       "    </tr>\n",
       "    <tr>\n",
       "      <th>18</th>\n",
       "      <th>8;15</th>\n",
       "      <th>9;15</th>\n",
       "      <td>9.0</td>\n",
       "    </tr>\n",
       "    <tr>\n",
       "      <th rowspan=\"2\" valign=\"top\">19</th>\n",
       "      <th>7;18</th>\n",
       "      <th>4;17</th>\n",
       "      <td>1.0</td>\n",
       "    </tr>\n",
       "    <tr>\n",
       "      <th>1;17</th>\n",
       "      <th>7;16</th>\n",
       "      <td>7.0</td>\n",
       "    </tr>\n",
       "    <tr>\n",
       "      <th>21;17</th>\n",
       "      <th>9;14</th>\n",
       "      <th>3</th>\n",
       "      <td>NaN</td>\n",
       "    </tr>\n",
       "    <tr>\n",
       "      <th>15;17</th>\n",
       "      <th>3;18</th>\n",
       "      <th>NaN</th>\n",
       "      <td>NaN</td>\n",
       "    </tr>\n",
       "    <tr>\n",
       "      <th rowspan=\"2\" valign=\"top\">19</th>\n",
       "      <th>6;19;16</th>\n",
       "      <th>8</th>\n",
       "      <td>NaN</td>\n",
       "    </tr>\n",
       "    <tr>\n",
       "      <th>4;15</th>\n",
       "      <th>1;17</th>\n",
       "      <td>NaN</td>\n",
       "    </tr>\n",
       "  </tbody>\n",
       "</table>\n",
       "</div>"
      ],
      "text/plain": [
       "                    websiteSWE;websiteFIN;websiteNOR\n",
       "18    2;17    4;15                               2.0\n",
       "20    1;18    7;18                               8.0\n",
       "17    6;19    1;17                               7.0\n",
       "16    8;16    4;16                               5.0\n",
       "18    8;15    9;15                               9.0\n",
       "19    7;18    4;17                               1.0\n",
       "      1;17    7;16                               7.0\n",
       "21;17 9;14    3                                  NaN\n",
       "15;17 3;18    NaN                                NaN\n",
       "19    6;19;16 8                                  NaN\n",
       "      4;15    1;17                               NaN"
      ]
     },
     "execution_count": 74,
     "metadata": {},
     "output_type": "execute_result"
    }
   ],
   "source": [
    "# read text file\n",
    "import pandas as pd\n",
    "df = pd.read_csv(\"webcount2.csv\")\n",
    "df"
   ]
  },
  {
   "cell_type": "code",
   "execution_count": 75,
   "id": "da542eac",
   "metadata": {},
   "outputs": [
    {
     "data": {
      "text/html": [
       "<div>\n",
       "<style scoped>\n",
       "    .dataframe tbody tr th:only-of-type {\n",
       "        vertical-align: middle;\n",
       "    }\n",
       "\n",
       "    .dataframe tbody tr th {\n",
       "        vertical-align: top;\n",
       "    }\n",
       "\n",
       "    .dataframe thead th {\n",
       "        text-align: right;\n",
       "    }\n",
       "</style>\n",
       "<table border=\"1\" class=\"dataframe\">\n",
       "  <thead>\n",
       "    <tr style=\"text-align: right;\">\n",
       "      <th></th>\n",
       "      <th>websiteSWE</th>\n",
       "      <th>websiteFIN</th>\n",
       "      <th>websiteNOR</th>\n",
       "    </tr>\n",
       "  </thead>\n",
       "  <tbody>\n",
       "    <tr>\n",
       "      <th>0</th>\n",
       "      <td>182</td>\n",
       "      <td>174</td>\n",
       "      <td>152</td>\n",
       "    </tr>\n",
       "    <tr>\n",
       "      <th>1</th>\n",
       "      <td>201</td>\n",
       "      <td>187</td>\n",
       "      <td>188</td>\n",
       "    </tr>\n",
       "    <tr>\n",
       "      <th>2</th>\n",
       "      <td>176</td>\n",
       "      <td>191</td>\n",
       "      <td>177</td>\n",
       "    </tr>\n",
       "    <tr>\n",
       "      <th>3</th>\n",
       "      <td>168</td>\n",
       "      <td>164</td>\n",
       "      <td>165</td>\n",
       "    </tr>\n",
       "    <tr>\n",
       "      <th>4</th>\n",
       "      <td>188</td>\n",
       "      <td>159</td>\n",
       "      <td>159</td>\n",
       "    </tr>\n",
       "    <tr>\n",
       "      <th>5</th>\n",
       "      <td>197</td>\n",
       "      <td>184</td>\n",
       "      <td>171</td>\n",
       "    </tr>\n",
       "    <tr>\n",
       "      <th>6</th>\n",
       "      <td>191</td>\n",
       "      <td>177</td>\n",
       "      <td>167</td>\n",
       "    </tr>\n",
       "    <tr>\n",
       "      <th>7</th>\n",
       "      <td>21</td>\n",
       "      <td>179</td>\n",
       "      <td>143</td>\n",
       "    </tr>\n",
       "    <tr>\n",
       "      <th>8</th>\n",
       "      <td>15</td>\n",
       "      <td>173</td>\n",
       "      <td>18</td>\n",
       "    </tr>\n",
       "    <tr>\n",
       "      <th>9</th>\n",
       "      <td>196</td>\n",
       "      <td>19</td>\n",
       "      <td>168</td>\n",
       "    </tr>\n",
       "    <tr>\n",
       "      <th>10</th>\n",
       "      <td>194</td>\n",
       "      <td>151</td>\n",
       "      <td>17</td>\n",
       "    </tr>\n",
       "  </tbody>\n",
       "</table>\n",
       "</div>"
      ],
      "text/plain": [
       "    websiteSWE  websiteFIN  websiteNOR\n",
       "0          182         174         152\n",
       "1          201         187         188\n",
       "2          176         191         177\n",
       "3          168         164         165\n",
       "4          188         159         159\n",
       "5          197         184         171\n",
       "6          191         177         167\n",
       "7           21         179         143\n",
       "8           15         173          18\n",
       "9          196          19         168\n",
       "10         194         151          17"
      ]
     },
     "execution_count": 75,
     "metadata": {},
     "output_type": "execute_result"
    }
   ],
   "source": [
    "# Another way to read csv file: webcount2.csv\n",
    "df = pd.read_excel(\"webcount Excel.xlsx\")\n",
    "df"
   ]
  },
  {
   "cell_type": "code",
   "execution_count": 76,
   "id": "7bcc783c",
   "metadata": {},
   "outputs": [
    {
     "data": {
      "text/html": [
       "<div>\n",
       "<style scoped>\n",
       "    .dataframe tbody tr th:only-of-type {\n",
       "        vertical-align: middle;\n",
       "    }\n",
       "\n",
       "    .dataframe tbody tr th {\n",
       "        vertical-align: top;\n",
       "    }\n",
       "\n",
       "    .dataframe thead th {\n",
       "        text-align: right;\n",
       "    }\n",
       "</style>\n",
       "<table border=\"1\" class=\"dataframe\">\n",
       "  <thead>\n",
       "    <tr style=\"text-align: right;\">\n",
       "      <th></th>\n",
       "      <th>count</th>\n",
       "      <th>mean</th>\n",
       "      <th>std</th>\n",
       "      <th>min</th>\n",
       "      <th>25%</th>\n",
       "      <th>50%</th>\n",
       "      <th>75%</th>\n",
       "      <th>max</th>\n",
       "    </tr>\n",
       "  </thead>\n",
       "  <tbody>\n",
       "    <tr>\n",
       "      <th>websiteSWE</th>\n",
       "      <td>11.0</td>\n",
       "      <td>157.181818</td>\n",
       "      <td>69.505134</td>\n",
       "      <td>15.0</td>\n",
       "      <td>172.0</td>\n",
       "      <td>188.0</td>\n",
       "      <td>195.0</td>\n",
       "      <td>201.0</td>\n",
       "    </tr>\n",
       "    <tr>\n",
       "      <th>websiteFIN</th>\n",
       "      <td>11.0</td>\n",
       "      <td>159.818182</td>\n",
       "      <td>48.228245</td>\n",
       "      <td>19.0</td>\n",
       "      <td>161.5</td>\n",
       "      <td>174.0</td>\n",
       "      <td>181.5</td>\n",
       "      <td>191.0</td>\n",
       "    </tr>\n",
       "    <tr>\n",
       "      <th>websiteNOR</th>\n",
       "      <td>11.0</td>\n",
       "      <td>138.636364</td>\n",
       "      <td>61.056159</td>\n",
       "      <td>17.0</td>\n",
       "      <td>147.5</td>\n",
       "      <td>165.0</td>\n",
       "      <td>169.5</td>\n",
       "      <td>188.0</td>\n",
       "    </tr>\n",
       "  </tbody>\n",
       "</table>\n",
       "</div>"
      ],
      "text/plain": [
       "            count        mean        std   min    25%    50%    75%    max\n",
       "websiteSWE   11.0  157.181818  69.505134  15.0  172.0  188.0  195.0  201.0\n",
       "websiteFIN   11.0  159.818182  48.228245  19.0  161.5  174.0  181.5  191.0\n",
       "websiteNOR   11.0  138.636364  61.056159  17.0  147.5  165.0  169.5  188.0"
      ]
     },
     "execution_count": 76,
     "metadata": {},
     "output_type": "execute_result"
    }
   ],
   "source": [
    "df.describe().transpose()"
   ]
  },
  {
   "cell_type": "code",
   "execution_count": 77,
   "id": "1439db11",
   "metadata": {},
   "outputs": [
    {
     "data": {
      "text/plain": [
       "F_onewayResult(statistic=0.404008599161799, pvalue=0.671216463021447)"
      ]
     },
     "execution_count": 77,
     "metadata": {},
     "output_type": "execute_result"
    }
   ],
   "source": [
    "# Enter the data manually.\n",
    "from scipy.stats import f_oneway\n",
    "website_swe = [182,201,176,168,188,197,191,21,15,196,194]\n",
    "wesite_fin = [174,187,191,164,159,184,177,179,173,19,151]\n",
    "wesite_nor = [152,188,177,165,159,171,167,143,18,168,17]\n",
    "f_oneway(website_swe,wesite_fin,wesite_nor)"
   ]
  },
  {
   "cell_type": "code",
   "execution_count": 78,
   "id": "e43cb246",
   "metadata": {},
   "outputs": [],
   "source": [
    "from numpy.random import randn\n",
    "from scipy.stats import kruskal\n",
    "from matplotlib import pyplot"
   ]
  },
  {
   "cell_type": "code",
   "execution_count": 79,
   "id": "4991fb85",
   "metadata": {},
   "outputs": [
    {
     "data": {
      "image/png": "[encoded data removed]",
      "text/plain": [
       "<Figure size 640x480 with 1 Axes>"
      ]
     },
     "metadata": {},
     "output_type": "display_data"
    },
    {
     "data": {
      "image/png": "[encoded data removed]",
      "text/plain": [
       "<Figure size 640x480 with 1 Axes>"
      ]
     },
     "metadata": {},
     "output_type": "display_data"
    },
    {
     "data": {
      "image/png": "[encoded data removed]",
      "text/plain": [
       "<Figure size 640x480 with 1 Axes>"
      ]
     },
     "metadata": {},
     "output_type": "display_data"
    },
    {
     "name": "stdout",
     "output_type": "stream",
     "text": [
      "H= 6.158281257127191 p= 0.04599876969720749\n"
     ]
    }
   ],
   "source": [
    "# Plot the datasets we have and showing it.\n",
    "pyplot.hist(website_swe)\n",
    "pyplot.show()\n",
    "pyplot.hist(wesite_fin)\n",
    "pyplot.show()\n",
    "pyplot.hist(wesite_nor)\n",
    "pyplot.show()\n",
    "\n",
    "# compare samples\n",
    "stat, p = kruskal(website_swe, wesite_fin, wesite_nor)\n",
    "print(\"H=\",stat, \"p=\",p)"
   ]
  },
  {
   "cell_type": "code",
   "execution_count": 80,
   "id": "cfa94f54",
   "metadata": {},
   "outputs": [
    {
     "name": "stdout",
     "output_type": "stream",
     "text": [
      "We reject null hypothesis\n"
     ]
    }
   ],
   "source": [
    "alpha = 0.05\n",
    "if(p_value <= alpha):\n",
    "    print(\"We reject null hypothesis\")\n",
    "else:\n",
    "    print(\"We do not reject null hypotrhesis\") "
   ]
  },
  {
   "cell_type": "code",
   "execution_count": 46,
   "id": "10b7f301",
   "metadata": {},
   "outputs": [
    {
     "name": "stdout",
     "output_type": "stream",
     "text": [
      "Confidence interval for website Sweden\n"
     ]
    },
    {
     "name": "stderr",
     "output_type": "stream",
     "text": [
      "C:\\Users\\Lenovo\\AppData\\Local\\Temp\\ipykernel_7288\\4213551962.py:9: DeprecationWarning: Use of keyword argument `alpha` for method `interval` is deprecated. Use first positional argument or keyword argument `confidence` instead.\n",
      "  st.t.interval(alpha=0.95, df=len(website_swe)-1, loc=np.mean(website_swe), scale=st.sem(website_swe))\n"
     ]
    },
    {
     "data": {
      "text/plain": [
       "(110.48763388023258, 203.8760024834038)"
      ]
     },
     "execution_count": 46,
     "metadata": {},
     "output_type": "execute_result"
    }
   ],
   "source": [
    "import numpy as np\n",
    "import scipy.stats as st\n",
    "\n",
    "#define sample data for website Sweden.\n",
    "website_swe = [182,201,176,168,188,197,191,21,15,196,194]\n",
    "\n",
    "#create 95% confidence interval \n",
    "print(\"Confidence interval for website Sweden\")\n",
    "st.t.interval(alpha=0.95, df=len(website_swe)-1, loc=np.mean(website_swe), scale=st.sem(website_swe)) "
   ]
  },
  {
   "cell_type": "code",
   "execution_count": 47,
   "id": "5b80d6da",
   "metadata": {},
   "outputs": [
    {
     "name": "stdout",
     "output_type": "stream",
     "text": [
      "Confidence interval for website Finland\n"
     ]
    },
    {
     "name": "stderr",
     "output_type": "stream",
     "text": [
      "C:\\Users\\Lenovo\\AppData\\Local\\Temp\\ipykernel_7288\\3919235920.py:9: DeprecationWarning: Use of keyword argument `alpha` for method `interval` is deprecated. Use first positional argument or keyword argument `confidence` instead.\n",
      "  st.t.interval(alpha=0.95, df=len(wesite_fin)-1, loc=np.mean(wesite_fin), scale=st.sem(wesite_fin))\n"
     ]
    },
    {
     "data": {
      "text/plain": [
       "(127.4180058216233, 192.21835781474033)"
      ]
     },
     "execution_count": 47,
     "metadata": {},
     "output_type": "execute_result"
    }
   ],
   "source": [
    "import numpy as np\n",
    "import scipy.stats as st\n",
    "\n",
    "#define sample data for website Finland.\n",
    "wesite_fin = [174,187,191,164,159,184,177,179,173,19,151]\n",
    "\n",
    "#create 95% confidence interval \n",
    "print(\"Confidence interval for website Finland\")\n",
    "st.t.interval(alpha=0.95, df=len(wesite_fin)-1, loc=np.mean(wesite_fin), scale=st.sem(wesite_fin)) "
   ]
  },
  {
   "cell_type": "code",
   "execution_count": 48,
   "id": "68d39cd9",
   "metadata": {},
   "outputs": [
    {
     "name": "stdout",
     "output_type": "stream",
     "text": [
      "Confidence interval for website Norway\n"
     ]
    },
    {
     "name": "stderr",
     "output_type": "stream",
     "text": [
      "C:\\Users\\Lenovo\\AppData\\Local\\Temp\\ipykernel_7288\\899363855.py:9: DeprecationWarning: Use of keyword argument `alpha` for method `interval` is deprecated. Use first positional argument or keyword argument `confidence` instead.\n",
      "  st.t.interval(alpha=0.95, df=len(wesite_nor)-1, loc=np.mean(wesite_nor), scale=st.sem(wesite_nor))\n"
     ]
    },
    {
     "data": {
      "text/plain": [
       "(97.61827793102205, 179.6544493417052)"
      ]
     },
     "execution_count": 48,
     "metadata": {},
     "output_type": "execute_result"
    }
   ],
   "source": [
    "import numpy as np\n",
    "import scipy.stats as st\n",
    "\n",
    "#define sample data for website Norway.\n",
    "wesite_nor = [152,188,177,165,159,171,167,143,18,168,17]\n",
    "\n",
    "#create 95% confidence interval \n",
    "print(\"Confidence interval for website Norway\")\n",
    "st.t.interval(alpha=0.95, df=len(wesite_nor)-1, loc=np.mean(wesite_nor), scale=st.sem(wesite_nor)) "
   ]
  },
  {
   "cell_type": "code",
   "execution_count": 49,
   "id": "f4a49497",
   "metadata": {},
   "outputs": [],
   "source": [
    "# Normal probability plot.\n",
    "# In order to know whethere our dataset is normally distributed or not.\n",
    "# We need to use QQ plot to help us answer that question.\n",
    "x = [182,201,176,168,188,197,191,21,15,196,194,\n",
    "    174,187,191,164,159,184,177,179,173,19,151,\n",
    "    152,188,177,165,159,171,167,143,18,168,17]"
   ]
  },
  {
   "cell_type": "code",
   "execution_count": 50,
   "id": "a3630671",
   "metadata": {},
   "outputs": [],
   "source": [
    "import matplotlib.pyplot as plt"
   ]
  },
  {
   "cell_type": "code",
   "execution_count": 52,
   "id": "a5e5d5a4",
   "metadata": {},
   "outputs": [
    {
     "data": {
      "text/plain": [
       "<Figure size 640x480 with 0 Axes>"
      ]
     },
     "execution_count": 52,
     "metadata": {},
     "output_type": "execute_result"
    },
    {
     "data": {
      "image/png": "[encoded data removed]",
      "text/plain": [
       "<Figure size 640x480 with 1 Axes>"
      ]
     },
     "metadata": {},
     "output_type": "display_data"
    },
    {
     "data": {
      "text/plain": [
       "<Figure size 640x480 with 0 Axes>"
      ]
     },
     "metadata": {},
     "output_type": "display_data"
    }
   ],
   "source": [
    "st.probplot(x,plot=plt)\n",
    "plt.figure()"
   ]
  },
  {
   "cell_type": "code",
   "execution_count": 53,
   "id": "cf280407",
   "metadata": {},
   "outputs": [],
   "source": [
    "# The sample is not normally distributed as shown in the qq plot."
   ]
  },
  {
   "cell_type": "code",
   "execution_count": 54,
   "id": "f1b0923b",
   "metadata": {},
   "outputs": [
    {
     "name": "stdout",
     "output_type": "stream",
     "text": [
      "Statistics=0.651, p=0.000\n"
     ]
    }
   ],
   "source": [
    "from scipy.stats import shapiro\n",
    "#3. Quantitative assessment: \n",
    "#    Shapiro-Wilk test [ scipy.stats.shapiro(x) ]\n",
    "# H0: The data is drawn from a normal distribution.\n",
    "# H1: The data is NOT drawn from a normal distribution.\n",
    "# Significance level\n",
    "ALPHA = 0.05\n",
    "\n",
    "# normality test\n",
    "stat, p = shapiro(x)\n",
    "print('Statistics=%.3f, p=%.3f' % (stat, p))"
   ]
  },
  {
   "cell_type": "code",
   "execution_count": 56,
   "id": "950d585f",
   "metadata": {},
   "outputs": [
    {
     "data": {
      "text/plain": [
       "ShapiroResult(statistic=0.650910496711731, pvalue=1.274415666330242e-07)"
      ]
     },
     "execution_count": 56,
     "metadata": {},
     "output_type": "execute_result"
    }
   ],
   "source": [
    "st.shapiro(x)"
   ]
  },
  {
   "cell_type": "code",
   "execution_count": 57,
   "id": "bec5d00c",
   "metadata": {},
   "outputs": [],
   "source": [
    "# For sweden\n",
    "swe = [182,201,176,168,188,197,191,21,15,196,194]   "
   ]
  },
  {
   "cell_type": "code",
   "execution_count": 58,
   "id": "377cf572",
   "metadata": {},
   "outputs": [],
   "source": [
    "import matplotlib.pyplot as plt"
   ]
  },
  {
   "cell_type": "code",
   "execution_count": 60,
   "id": "101f0c60",
   "metadata": {},
   "outputs": [
    {
     "data": {
      "text/plain": [
       "<Figure size 640x480 with 0 Axes>"
      ]
     },
     "execution_count": 60,
     "metadata": {},
     "output_type": "execute_result"
    },
    {
     "data": {
      "image/png": "[encoded data removed]",
      "text/plain": [
       "<Figure size 640x480 with 1 Axes>"
      ]
     },
     "metadata": {},
     "output_type": "display_data"
    },
    {
     "data": {
      "text/plain": [
       "<Figure size 640x480 with 0 Axes>"
      ]
     },
     "metadata": {},
     "output_type": "display_data"
    }
   ],
   "source": [
    "st.probplot(website_swe,plot=plt)\n",
    "plt.figure()"
   ]
  },
  {
   "cell_type": "code",
   "execution_count": 61,
   "id": "b9947bb1",
   "metadata": {},
   "outputs": [
    {
     "name": "stdout",
     "output_type": "stream",
     "text": [
      "Statistics=0.613, p=0.000\n"
     ]
    }
   ],
   "source": [
    "from scipy.stats import shapiro\n",
    "#3. Quantitative assessment: \n",
    "#    Shapiro-Wilk test [ scipy.stats.shapiro(x) ]\n",
    "# H0: The data is drawn from a normal distribution.\n",
    "# H1: The data is NOT drawn from a normal distribution.\n",
    "# Significance level\n",
    "ALPHA = 0.05\n",
    "\n",
    "# normality test\n",
    "stat, p = shapiro(website_swe)\n",
    "print('Statistics=%.3f, p=%.3f' % (stat, p))"
   ]
  },
  {
   "cell_type": "code",
   "execution_count": 62,
   "id": "b04878d8",
   "metadata": {},
   "outputs": [],
   "source": [
    "# For finland\n",
    "fin = [174,187,191,164,159,184,177,179,173,19,151] "
   ]
  },
  {
   "cell_type": "code",
   "execution_count": 63,
   "id": "2be99324",
   "metadata": {},
   "outputs": [],
   "source": [
    "import matplotlib.pyplot as plt"
   ]
  },
  {
   "cell_type": "code",
   "execution_count": 64,
   "id": "49640aa9",
   "metadata": {},
   "outputs": [
    {
     "data": {
      "text/plain": [
       "<Figure size 640x480 with 0 Axes>"
      ]
     },
     "execution_count": 64,
     "metadata": {},
     "output_type": "execute_result"
    },
    {
     "data": {
      "image/png": "[encoded data removed]",
      "text/plain": [
       "<Figure size 640x480 with 1 Axes>"
      ]
     },
     "metadata": {},
     "output_type": "display_data"
    },
    {
     "data": {
      "text/plain": [
       "<Figure size 640x480 with 0 Axes>"
      ]
     },
     "metadata": {},
     "output_type": "display_data"
    }
   ],
   "source": [
    "st.probplot(wesite_fin,plot=plt)\n",
    "plt.figure()"
   ]
  },
  {
   "cell_type": "code",
   "execution_count": 65,
   "id": "324ddf2b",
   "metadata": {},
   "outputs": [
    {
     "name": "stdout",
     "output_type": "stream",
     "text": [
      "Statistics=0.582, p=0.000\n"
     ]
    }
   ],
   "source": [
    "from scipy.stats import shapiro\n",
    "#3. Quantitative assessment: \n",
    "#    Shapiro-Wilk test [ scipy.stats.shapiro(x) ]\n",
    "# H0: The data is drawn from a normal distribution.\n",
    "# H1: The data is NOT drawn from a normal distribution.\n",
    "# Significance level\n",
    "ALPHA = 0.05\n",
    "\n",
    "# normality test\n",
    "stat, p = shapiro(wesite_fin)\n",
    "print('Statistics=%.3f, p=%.3f' % (stat, p))"
   ]
  },
  {
   "cell_type": "code",
   "execution_count": 66,
   "id": "3874508e",
   "metadata": {},
   "outputs": [],
   "source": [
    "# For norway\n",
    "nor = [152,188,177,165,159,171,167,143,18,168,17]"
   ]
  },
  {
   "cell_type": "code",
   "execution_count": 67,
   "id": "bcf477d5",
   "metadata": {},
   "outputs": [],
   "source": [
    "import matplotlib.pyplot as plt"
   ]
  },
  {
   "cell_type": "code",
   "execution_count": 68,
   "id": "6969d045",
   "metadata": {},
   "outputs": [
    {
     "data": {
      "text/plain": [
       "<Figure size 640x480 with 0 Axes>"
      ]
     },
     "execution_count": 68,
     "metadata": {},
     "output_type": "execute_result"
    },
    {
     "data": {
      "image/png": "[encoded data removed]",
      "text/plain": [
       "<Figure size 640x480 with 1 Axes>"
      ]
     },
     "metadata": {},
     "output_type": "display_data"
    },
    {
     "data": {
      "text/plain": [
       "<Figure size 640x480 with 0 Axes>"
      ]
     },
     "metadata": {},
     "output_type": "display_data"
    }
   ],
   "source": [
    "st.probplot(wesite_nor,plot=plt)\n",
    "plt.figure()"
   ]
  },
  {
   "cell_type": "code",
   "execution_count": 69,
   "id": "ff30c359",
   "metadata": {},
   "outputs": [
    {
     "name": "stdout",
     "output_type": "stream",
     "text": [
      "Statistics=0.667, p=0.000\n"
     ]
    }
   ],
   "source": [
    "from scipy.stats import shapiro\n",
    "#3. Quantitative assessment: \n",
    "#    Shapiro-Wilk test [ scipy.stats.shapiro(x) ]\n",
    "# H0: The data is drawn from a normal distribution.\n",
    "# H1: The data is NOT drawn from a normal distribution.\n",
    "# Significance level\n",
    "ALPHA = 0.05\n",
    "\n",
    "# normality test\n",
    "stat, p = shapiro(wesite_nor)\n",
    "print('Statistics=%.3f, p=%.3f' % (stat, p))"
   ]
  },
  {
   "cell_type": "code",
   "execution_count": 70,
   "id": "81bf0c6a",
   "metadata": {},
   "outputs": [],
   "source": [
    "from scipy.stats import f_oneway"
   ]
  },
  {
   "cell_type": "code",
   "execution_count": 71,
   "id": "d6e9d07a",
   "metadata": {},
   "outputs": [
    {
     "data": {
      "text/plain": [
       "F_onewayResult(statistic=0.404008599161799, pvalue=0.671216463021447)"
      ]
     },
     "execution_count": 71,
     "metadata": {},
     "output_type": "execute_result"
    }
   ],
   "source": [
    "f_oneway(website_swe,wesite_fin,wesite_nor)"
   ]
  },
  {
   "cell_type": "code",
   "execution_count": null,
   "id": "01e19c23",
   "metadata": {},
   "outputs": [],
   "source": []
  }
 ],
 "metadata": {
  "kernelspec": {
   "display_name": "Python 3 (ipykernel)",
   "language": "python",
   "name": "python3"
  },
  "language_info": {
   "codemirror_mode": {
    "name": "ipython",
    "version": 3
   },
   "file_extension": ".py",
   "mimetype": "text/x-python",
   "name": "python",
   "nbconvert_exporter": "python",
   "pygments_lexer": "ipython3",
   "version": "3.9.13"
  }
 },
 "nbformat": 4,
 "nbformat_minor": 5
}
