{
 "cells": [
  {
   "cell_type": "code",
   "execution_count": 1,
   "id": "ad4b921c",
   "metadata": {},
   "outputs": [],
   "source": [
    "#Task 1\n",
    "#Choosing specific topic to text mining purpose.\n",
    "#Importing needed libraries\n",
    "from bs4 import BeautifulSoup\n",
    "import requests\n",
    "import sys"
   ]
  },
  {
   "cell_type": "code",
   "execution_count": 8,
   "id": "fe8d3f35",
   "metadata": {},
   "outputs": [
    {
     "name": "stdout",
     "output_type": "stream",
     "text": [
      "Status code:  200\n"
     ]
    }
   ],
   "source": [
    "# desktop user-agent\n",
    "USER_AGENT = \"Mozilla/5.0 (Macintosh; Intel Mac OS X 10.14; rv:65.0) Gecko/20100101 Firefox/65.0\"\n",
    "\n",
    "headers = {\"user-agent\": USER_AGENT}\n",
    "r = requests.get(\"https://www.ibm.com/topics/machine-learning\",headers=headers)\n",
    "\n",
    "print(\"Status code: \", r.status_code)"
   ]
  },
  {
   "cell_type": "code",
   "execution_count": 9,
   "id": "a44a99df",
   "metadata": {},
   "outputs": [],
   "source": [
    "if r.status_code == 200:\n",
    "    # resp = requests.get(URL, headers=headers)\n",
    "    soup = BeautifulSoup(r.content, \"html.parser\")\n",
    "else:\n",
    "    print(\"Scrapping is not possible\")\n",
    "    sys.exit(0)"
   ]
  },
  {
   "cell_type": "code",
   "execution_count": 10,
   "id": "8f251eb7",
   "metadata": {},
   "outputs": [
    {
     "name": "stdout",
     "output_type": "stream",
     "text": [
      "Machine learning is a branch of artificial intelligence (AI) and computer science which focuses on the use of data and algorithms to imitate the way that humans learn, gradually improving its accuracy.\n"
     ]
    }
   ],
   "source": [
    "# name the output file to write to local disk\n",
    "out_filename = \"test_t.txt1\"\n",
    "\n",
    "# title\n",
    "# content\n",
    "text = soup.find(\"div\",{\"class\":\"table-of-contents container responsivegrid\"})\n",
    "\n",
    "\n",
    "anchor = text.find_all(\"div\",{\"class\":\"body container responsivegrid\"})\n",
    "\n",
    "# opens file, and writes headers\n",
    "f = open(out_filename, \"w\")\n",
    "\n",
    "# print(title1, file=open(out_filename, \"a\"))\n",
    "\n",
    "for p in anchor:\n",
    "\n",
    "    summary = p.find(\"p\").text\n",
    "    print(summary)\n",
    "    print(summary, file=open(out_filename, \"a\"))\n",
    "\n",
    "f.close() # Close the file"
   ]
  },
  {
   "cell_type": "code",
   "execution_count": 11,
   "id": "32480f56",
   "metadata": {},
   "outputs": [
    {
     "name": "stdout",
     "output_type": "stream",
     "text": [
      "Status code:  200\n"
     ]
    }
   ],
   "source": [
    "# desktop user-agent\n",
    "USER_AGENT = \"Mozilla/5.0 (Macintosh; Intel Mac OS X 10.14; rv:65.0) Gecko/20100101 Firefox/65.0\"\n",
    "\n",
    "headers = {\"user-agent\": USER_AGENT}\n",
    "r = requests.get(\"https://www.ibm.com/topics/deep-learning\",headers=headers)\n",
    "\n",
    "print(\"Status code: \", r.status_code)"
   ]
  },
  {
   "cell_type": "code",
   "execution_count": 12,
   "id": "d4a3320d",
   "metadata": {},
   "outputs": [],
   "source": [
    "if r.status_code == 200:\n",
    "    # resp = requests.get(URL, headers=headers)\n",
    "    soup = BeautifulSoup(r.content, \"html.parser\")\n",
    "else:\n",
    "    print(\"Scrapping is not possible\")\n",
    "    sys.exit(0)"
   ]
  },
  {
   "cell_type": "code",
   "execution_count": 13,
   "id": "4827e0d9",
   "metadata": {},
   "outputs": [
    {
     "name": "stdout",
     "output_type": "stream",
     "text": [
      "Deep learning is a subset of machine learning, which is essentially a neural network with three or more layers. These neural networks attempt to simulate the behavior of the human brain—albeit far from matching its ability—allowing it to “learn” from large amounts of data. While a neural network with a single layer can still make approximate predictions, additional hidden layers can help to optimize and refine for accuracy.\n"
     ]
    }
   ],
   "source": [
    "# name the output file to write to local disk\n",
    "out_filename = \"test_t.txt2\"\n",
    "\n",
    "# title\n",
    "# content\n",
    "text = soup.find(\"div\",{\"class\":\"intro container responsivegrid\"})\n",
    "\n",
    "\n",
    "anchor = text.find_all(\"div\",{\"class\":\"simple-narrative\"})\n",
    "\n",
    "# opens file, and writes headers\n",
    "f = open(out_filename, \"w\")\n",
    "\n",
    "# print(title1, file=open(out_filename, \"a\"))\n",
    "\n",
    "for p in anchor:\n",
    "\n",
    "    summary = p.find(\"p\").text\n",
    "    print(summary)\n",
    "    print(summary, file=open(out_filename, \"a\"))\n",
    "\n",
    "f.close() # Close the file"
   ]
  },
  {
   "cell_type": "code",
   "execution_count": null,
   "id": "d376d2da",
   "metadata": {},
   "outputs": [],
   "source": []
  }
 ],
 "metadata": {
  "kernelspec": {
   "display_name": "Python 3 (ipykernel)",
   "language": "python",
   "name": "python3"
  },
  "language_info": {
   "codemirror_mode": {
    "name": "ipython",
    "version": 3
   },
   "file_extension": ".py",
   "mimetype": "text/x-python",
   "name": "python",
   "nbconvert_exporter": "python",
   "pygments_lexer": "ipython3",
   "version": "3.9.13"
  }
 },
 "nbformat": 4,
 "nbformat_minor": 5
}
