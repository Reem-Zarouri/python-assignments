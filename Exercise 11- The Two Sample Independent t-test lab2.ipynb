{
 "cells": [
  {
   "cell_type": "code",
   "execution_count": 1,
   "id": "24eb348f",
   "metadata": {},
   "outputs": [],
   "source": [
    "# Exercise 11- Two Sample Independent T-test\n",
    "# In this excercise we need to compare two samples t-test between two machine based on some value from each.\n",
    "# \n",
    "# Hypothesis:\n",
    "# H0: There is no difference in excution mean time between the old and new machine.\n",
    "# Ha: There is a difference in excution mean time between the machines."
   ]
  },
  {
   "cell_type": "code",
   "execution_count": 2,
   "id": "60631b26",
   "metadata": {},
   "outputs": [],
   "source": [
    "# Data the data manually from the CSV file, nm: new machine, om: old machine.\n",
    "nm = [40.1,41,41.3,41.8,42.4,42.8,43.2,42.3,40.8,38.7] \n",
    "om = [42.7,43.6,42.8,42.3,42.5,43.5,43.1,40.7,39,44.1]"
   ]
  },
  {
   "cell_type": "code",
   "execution_count": 5,
   "id": "27991a73",
   "metadata": {},
   "outputs": [
    {
     "data": {
      "text/html": [
       "<div>\n",
       "<style scoped>\n",
       "    .dataframe tbody tr th:only-of-type {\n",
       "        vertical-align: middle;\n",
       "    }\n",
       "\n",
       "    .dataframe tbody tr th {\n",
       "        vertical-align: top;\n",
       "    }\n",
       "\n",
       "    .dataframe thead th {\n",
       "        text-align: right;\n",
       "    }\n",
       "</style>\n",
       "<table border=\"1\" class=\"dataframe\">\n",
       "  <thead>\n",
       "    <tr style=\"text-align: right;\">\n",
       "      <th></th>\n",
       "      <th>NewServer\\tOldServer</th>\n",
       "    </tr>\n",
       "  </thead>\n",
       "  <tbody>\n",
       "    <tr>\n",
       "      <th>0</th>\n",
       "      <td>34.1\\t52.7</td>\n",
       "    </tr>\n",
       "    <tr>\n",
       "      <th>1</th>\n",
       "      <td>41\\t43.6</td>\n",
       "    </tr>\n",
       "    <tr>\n",
       "      <th>2</th>\n",
       "      <td>40.3\\t42.8</td>\n",
       "    </tr>\n",
       "    <tr>\n",
       "      <th>3</th>\n",
       "      <td>40.8\\t42.3</td>\n",
       "    </tr>\n",
       "    <tr>\n",
       "      <th>4</th>\n",
       "      <td>42.4\\t42.5</td>\n",
       "    </tr>\n",
       "    <tr>\n",
       "      <th>5</th>\n",
       "      <td>34.7\\t53.6</td>\n",
       "    </tr>\n",
       "    <tr>\n",
       "      <th>6</th>\n",
       "      <td>42.8\\t43.5</td>\n",
       "    </tr>\n",
       "    <tr>\n",
       "      <th>7</th>\n",
       "      <td>35.6\\t45.0</td>\n",
       "    </tr>\n",
       "    <tr>\n",
       "      <th>8</th>\n",
       "      <td>41.2\\t43.1</td>\n",
       "    </tr>\n",
       "    <tr>\n",
       "      <th>9</th>\n",
       "      <td>42.3\\t50.7</td>\n",
       "    </tr>\n",
       "    <tr>\n",
       "      <th>10</th>\n",
       "      <td>40.8\\t39</td>\n",
       "    </tr>\n",
       "    <tr>\n",
       "      <th>11</th>\n",
       "      <td>38.7\\t44.1</td>\n",
       "    </tr>\n",
       "    <tr>\n",
       "      <th>12</th>\n",
       "      <td>50.1\\t34.8</td>\n",
       "    </tr>\n",
       "    <tr>\n",
       "      <th>13</th>\n",
       "      <td>44.9\\t53.8</td>\n",
       "    </tr>\n",
       "    <tr>\n",
       "      <th>14</th>\n",
       "      <td>40.3\\t34.9</td>\n",
       "    </tr>\n",
       "  </tbody>\n",
       "</table>\n",
       "</div>"
      ],
      "text/plain": [
       "   NewServer\\tOldServer\n",
       "0            34.1\\t52.7\n",
       "1              41\\t43.6\n",
       "2            40.3\\t42.8\n",
       "3            40.8\\t42.3\n",
       "4            42.4\\t42.5\n",
       "5            34.7\\t53.6\n",
       "6            42.8\\t43.5\n",
       "7            35.6\\t45.0\n",
       "8            41.2\\t43.1\n",
       "9            42.3\\t50.7\n",
       "10             40.8\\t39\n",
       "11           38.7\\t44.1\n",
       "12           50.1\\t34.8\n",
       "13           44.9\\t53.8\n",
       "14           40.3\\t34.9"
      ]
     },
     "execution_count": 5,
     "metadata": {},
     "output_type": "execute_result"
    }
   ],
   "source": [
    "import pandas as pd\n",
    "data = pd.read_csv(\"servers.txt\")\n",
    "data"
   ]
  },
  {
   "cell_type": "code",
   "execution_count": 6,
   "id": "3eb6a11a",
   "metadata": {},
   "outputs": [
    {
     "name": "stdout",
     "output_type": "stream",
     "text": [
      "The mean for new machine is  41.44\n",
      "The median for new machine is  41.55\n",
      "38.7\n",
      "43.2\n",
      "The std is  1.3607187643137553\n",
      "The mean for old machine is  42.43\n",
      "The median for old machine is  42.75\n",
      "38.7\n",
      "43.2\n",
      "The std is  1.518076268029889\n"
     ]
    }
   ],
   "source": [
    "import statistics as stats\n",
    "import random\n",
    "import numpy as np\n",
    "\n",
    "data_nm = [40.1,41,41.3,41.8,42.4,42.8,43.2,42.3,40.8,38.7]\n",
    "print(\"The mean for new machine is \", stats.mean(data_nm))\n",
    "print(\"The median for new machine is \", stats.median(data_nm))\n",
    "print(min(data_nm))\n",
    "print(max(data_nm))\n",
    "print(\"The std is \", stats.stdev(data_nm))\n",
    "\n",
    "\n",
    "data_om = [42.7,43.6,42.8,42.3,42.5,43.5,43.1,40.7,39,44.1]\n",
    "print(\"The mean for old machine is \", stats.mean(data_om))\n",
    "print(\"The median for old machine is \", stats.median(data_om))\n",
    "print(min(data_nm))\n",
    "print(max(data_nm))\n",
    "print(\"The std is \", stats.stdev(data_om))"
   ]
  },
  {
   "cell_type": "code",
   "execution_count": 7,
   "id": "2a7d6a31",
   "metadata": {},
   "outputs": [
    {
     "name": "stdout",
     "output_type": "stream",
     "text": [
      "New Machine\n"
     ]
    },
    {
     "data": {
      "image/png": "[encoded data removed]",
      "text/plain": [
       "<Figure size 640x480 with 1 Axes>"
      ]
     },
     "metadata": {},
     "output_type": "display_data"
    },
    {
     "name": "stdout",
     "output_type": "stream",
     "text": [
      "Old Machine\n"
     ]
    },
    {
     "data": {
      "image/png": "[encoded data removed]",
      "text/plain": [
       "<Figure size 640x480 with 1 Axes>"
      ]
     },
     "metadata": {},
     "output_type": "display_data"
    },
    {
     "name": "stdout",
     "output_type": "stream",
     "text": [
      "Statistics=-1.536, p=0.14202\n"
     ]
    }
   ],
   "source": [
    "from matplotlib import pyplot\n",
    "import pandas as pd\n",
    "from scipy.stats import ttest_ind\n",
    "print(\"New Machine\")\n",
    "pyplot.hist(data_nm)\n",
    "pyplot.show()\n",
    "print(\"Old Machine\")\n",
    "pyplot.hist(data_om)\n",
    "pyplot.show()\n",
    "\n",
    "\n",
    "# compare samples\n",
    "stat, p = ttest_ind(data_nm, data_om)\n",
    "print('Statistics=%.3f, p=%.5f' % (stat, p))"
   ]
  },
  {
   "cell_type": "code",
   "execution_count": 8,
   "id": "ca08483f",
   "metadata": {},
   "outputs": [
    {
     "name": "stdout",
     "output_type": "stream",
     "text": [
      "Statistics=-1.536, p=0.14202\n"
     ]
    }
   ],
   "source": [
    "from scipy.stats import ttest_ind\n",
    "stat, p = ttest_ind(nm, om)\n",
    "print('Statistics=%.3f, p=%.5f' % (stat, p))\n",
    "\n",
    "# p-value = 0.14202 so we can not reject H0.\n",
    "#  Which is there is no difference in excution mean time between the old and new machine.\n",
    "# t-value = -1.536"
   ]
  },
  {
   "cell_type": "code",
   "execution_count": 9,
   "id": "299dc8a7",
   "metadata": {},
   "outputs": [
    {
     "name": "stdout",
     "output_type": "stream",
     "text": [
      "Confidence interval for New Machine\n"
     ]
    },
    {
     "name": "stderr",
     "output_type": "stream",
     "text": [
      "C:\\Users\\Lenovo\\AppData\\Local\\Temp\\ipykernel_13712\\1734666548.py:9: DeprecationWarning: Use of keyword argument `alpha` for method `interval` is deprecated. Use first positional argument or keyword argument `confidence` instead.\n",
      "  st.t.interval(alpha=0.95, df=len(data)-1, loc=np.mean(data), scale=st.sem(data))\n"
     ]
    },
    {
     "data": {
      "text/plain": [
       "(40.4666004348889, 42.41339956511109)"
      ]
     },
     "execution_count": 9,
     "metadata": {},
     "output_type": "execute_result"
    }
   ],
   "source": [
    "import numpy as np\n",
    "import scipy.stats as st\n",
    "\n",
    "#define sample data for New Machine\n",
    "data = [40.1,41,41.3,41.8,42.4,42.8,43.2,42.3,40.8,38.7]\n",
    "\n",
    "#create 95% confidence interval \n",
    "print(\"Confidence interval for New Machine\")\n",
    "st.t.interval(alpha=0.95, df=len(data)-1, loc=np.mean(data), scale=st.sem(data)) "
   ]
  },
  {
   "cell_type": "code",
   "execution_count": 10,
   "id": "c0f6bff8",
   "metadata": {},
   "outputs": [
    {
     "name": "stdout",
     "output_type": "stream",
     "text": [
      "Confidence interval for Old Machine\n"
     ]
    },
    {
     "name": "stderr",
     "output_type": "stream",
     "text": [
      "C:\\Users\\Lenovo\\AppData\\Local\\Temp\\ipykernel_13712\\988760938.py:9: DeprecationWarning: Use of keyword argument `alpha` for method `interval` is deprecated. Use first positional argument or keyword argument `confidence` instead.\n",
      "  st.t.interval(alpha=0.95, df=len(data_om)-1, loc=np.mean(data_om), scale=st.sem(data_om))\n"
     ]
    },
    {
     "data": {
      "text/plain": [
       "(41.344033657902116, 43.5159663420979)"
      ]
     },
     "execution_count": 10,
     "metadata": {},
     "output_type": "execute_result"
    }
   ],
   "source": [
    "import numpy as np\n",
    "import scipy.stats as st\n",
    "\n",
    "#define sample data for New Machine\n",
    "data_om = [42.7,43.6,42.8,42.3,42.5,43.5,43.1,40.7,39,44.1]\n",
    "\n",
    "#create 95% confidence interval\n",
    "print(\"Confidence interval for Old Machine\")\n",
    "st.t.interval(alpha=0.95, df=len(data_om)-1, loc=np.mean(data_om), scale=st.sem(data_om))"
   ]
  },
  {
   "cell_type": "code",
   "execution_count": null,
   "id": "6b1fb4f0",
   "metadata": {},
   "outputs": [],
   "source": []
  }
 ],
 "metadata": {
  "kernelspec": {
   "display_name": "Python 3 (ipykernel)",
   "language": "python",
   "name": "python3"
  },
  "language_info": {
   "codemirror_mode": {
    "name": "ipython",
    "version": 3
   },
   "file_extension": ".py",
   "mimetype": "text/x-python",
   "name": "python",
   "nbconvert_exporter": "python",
   "pygments_lexer": "ipython3",
   "version": "3.9.13"
  }
 },
 "nbformat": 4,
 "nbformat_minor": 5
}
